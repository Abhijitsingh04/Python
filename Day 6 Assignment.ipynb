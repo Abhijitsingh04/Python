{
 "cells": [
  {
   "cell_type": "markdown",
   "metadata": {},
   "source": [
    "# Question 1:-\n",
    "For this challenge, create a bank account class that has two attributes\n",
    "\n",
    "*ownerName\n",
    "*BalanceAnd two methods\n",
    "*deposit\n",
    "*withdraw\n",
    "As an added requirement, withdrawals may not exceed the available balance.nstantiate your class, \n",
    "make several deposits and withdrawals, and test to make sure the account cant be overdrawn."
   ]
  },
  {
   "cell_type": "code",
   "execution_count": 3,
   "metadata": {
    "scrolled": true
   },
   "outputs": [
    {
     "name": "stdout",
     "output_type": "stream",
     "text": [
      "Hello! Welcome to your own Bank\n",
      "Enter the name of account holder:-Aakash Shinde\n",
      "Enter amount to be Deposited:-1075000\n",
      "\n",
      " Amount Deposited: 1075000.0\n",
      "Enter amount to be Withdrawn:-975000\n",
      "\n",
      " The amount you withdrawn:- 975000.0\n",
      "\\ Net Available Balance= 100000.0\n"
     ]
    }
   ],
   "source": [
    "class Bank_Account :\n",
    "    def __init__(self):\n",
    "        self.balance = 0\n",
    "        print (\"Hello! Welcome to your own Bank\")\n",
    "        name = str(input(\"Enter the name of account holder:-\"))\n",
    "    def deposit(self): \n",
    "        amount = float(input(\"Enter amount to be Deposited:-\"))\n",
    "        self.balance += amount\n",
    "        print (\"\\n Amount Deposited:\", amount)\n",
    "\n",
    "    def withdraw (self):\n",
    "       amount = float(input(\"Enter amount to be Withdrawn:-\"))  \n",
    "       if self.balance>=amount:\n",
    "           self.balance-=amount\n",
    "           print (\"\\n The amount you withdrawn:-\", amount)\n",
    "       else:\n",
    "           print (\"\\n Insufficient Balance in your Account\")\n",
    "\n",
    "    def display (self):\n",
    "        print (\"\\ Net Available Balance=\",self.balance)\n",
    "\n",
    "\n",
    "#Creating an object of class\n",
    "s = Bank_Account()\n",
    "\n",
    "#Calling functions with that class objects\n",
    "s.deposit()\n",
    "s.withdraw()\n",
    "s.display()"
   ]
  },
  {
   "cell_type": "code",
   "execution_count": 4,
   "metadata": {},
   "outputs": [
    {
     "name": "stdout",
     "output_type": "stream",
     "text": [
      "Hello! Welcome to your own Bank\n",
      "Enter the name of account holder:-Aadesh Shinde\n",
      "Enter amount to be Deposited:-5000\n",
      "\n",
      " Amount Deposited: 5000.0\n",
      "Enter amount to be Withdrawn:-10000\n",
      "\n",
      " Insufficient Balance in your Account\n",
      "\\ Net Available Balance= 5000.0\n"
     ]
    }
   ],
   "source": [
    "class Bank_Account :\n",
    "    def __init__(self):\n",
    "        self.balance = 0\n",
    "        print (\"Hello! Welcome to your own Bank\")\n",
    "        name = str(input(\"Enter the name of account holder:-\"))\n",
    "    def deposit(self): \n",
    "        amount = float(input(\"Enter amount to be Deposited:-\"))\n",
    "        self.balance += amount\n",
    "        print (\"\\n Amount Deposited:\", amount)\n",
    "\n",
    "    def withdraw (self):\n",
    "       amount = float(input(\"Enter amount to be Withdrawn:-\"))  \n",
    "       if self.balance>=amount:\n",
    "           self.balance-=amount\n",
    "           print (\"\\n The amount you withdrawn:-\", amount)\n",
    "       else:\n",
    "           print (\"\\n Insufficient Balance in your Account\")\n",
    "\n",
    "    def display (self):\n",
    "        print (\"\\ Net Available Balance=\",self.balance)\n",
    "\n",
    "\n",
    "#Creating an object of class\n",
    "s = Bank_Account()\n",
    "\n",
    "#Calling functions with that class objects\n",
    "s.deposit()\n",
    "s.withdraw()\n",
    "s.display()"
   ]
  },
  {
   "cell_type": "markdown",
   "metadata": {},
   "source": [
    "# Question 2:-\n",
    "For this Challenge, create a cone class that has two attributes:\n",
    "\n",
    "*R = Radius\n",
    "\n",
    "*h = Height\n",
    "\n",
    "And two methods\n",
    "\n",
    "Volume = Pi r2 = (h/3)\n",
    "\n",
    "Surface Area : base: Pi r2, side: Pi * r = sqrt(r2 +h2)\n",
    "\n",
    "Make only one class with functions, as in where required import Math."
   ]
  },
  {
   "cell_type": "code",
   "execution_count": 1,
   "metadata": {},
   "outputs": [
    {
     "name": "stdout",
     "output_type": "stream",
     "text": [
      "Enter the radius of a Cone:-5\n",
      "Enter the height of a Cone:-6\n",
      "\n",
      "Lenght of slant height of cone =7.810250\n",
      "The Volume of the Cone=157.079633\n",
      "The Surface Area of Side of a Cone=40.244586\n",
      "The Surface Area of Base of a Cone=78.539816\n"
     ]
    }
   ],
   "source": [
    "import math\n",
    "\n",
    "radius = float(input('Enter the radius of a Cone:-'))\n",
    "height = float(input('Enter the height of a Cone:-'))\n",
    "\n",
    "#Now we calculate slant height of a Cone.\n",
    "l = math.sqrt(radius * radius + height * height)\n",
    "\n",
    "#Calculate the Volume of a Cone.\n",
    "Volume = (1.0/3) * math.pi * radius * radius * height\n",
    "\n",
    "#Calculate the Surface Area of a Cone of its side.\n",
    "Surface_Area_side = math.pi * (radius + l)\n",
    "\n",
    "#Calculate the Surface Area of a Cone of its Base.\n",
    "Surface_Area_base = math.pi * radius * radius\n",
    "print (\"\\nLenght of slant height of cone =%2f\"%l)\n",
    "print(\"The Volume of the Cone=%2f\"%Volume)\n",
    "print(\"The Surface Area of Side of a Cone=%2f\"%Surface_Area_side)\n",
    "print(\"The Surface Area of Base of a Cone=%2f\"%Surface_Area_base)"
   ]
  },
  {
   "cell_type": "code",
   "execution_count": null,
   "metadata": {},
   "outputs": [],
   "source": []
  }
 ],
 "metadata": {
  "kernelspec": {
   "display_name": "Python 3",
   "language": "python",
   "name": "python3"
  },
  "language_info": {
   "codemirror_mode": {
    "name": "ipython",
    "version": 3
   },
   "file_extension": ".py",
   "mimetype": "text/x-python",
   "name": "python",
   "nbconvert_exporter": "python",
   "pygments_lexer": "ipython3",
   "version": "3.8.3"
  }
 },
 "nbformat": 4,
 "nbformat_minor": 4
}
