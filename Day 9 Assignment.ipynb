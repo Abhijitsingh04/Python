{
 "cells": [
  {
   "cell_type": "code",
   "execution_count": 4,
   "metadata": {},
   "outputs": [],
   "source": [
    "## Unit Testing"
   ]
  },
  {
   "cell_type": "code",
   "execution_count": 7,
   "metadata": {},
   "outputs": [
    {
     "name": "stdout",
     "output_type": "stream",
     "text": [
      "Requirement already satisfied: pylint in d:\\aakash\\python\\lib\\site-packages (2.5.3)\n",
      "Requirement already satisfied: isort<5,>=4.2.5 in d:\\aakash\\python\\lib\\site-packages (from pylint) (4.3.21)\n",
      "Requirement already satisfied: toml>=0.7.1 in d:\\aakash\\python\\lib\\site-packages (from pylint) (0.10.1)\n",
      "Requirement already satisfied: mccabe<0.7,>=0.6 in d:\\aakash\\python\\lib\\site-packages (from pylint) (0.6.1)\n",
      "Requirement already satisfied: colorama; sys_platform == \"win32\" in d:\\aakash\\python\\lib\\site-packages (from pylint) (0.4.3)\n",
      "Requirement already satisfied: astroid<=2.5,>=2.4.0 in d:\\aakash\\python\\lib\\site-packages (from pylint) (2.4.2)\n",
      "Requirement already satisfied: wrapt~=1.11 in d:\\aakash\\python\\lib\\site-packages (from astroid<=2.5,>=2.4.0->pylint) (1.11.2)\n",
      "Requirement already satisfied: lazy-object-proxy==1.4.* in d:\\aakash\\python\\lib\\site-packages (from astroid<=2.5,>=2.4.0->pylint) (1.4.3)\n",
      "Requirement already satisfied: six~=1.12 in d:\\aakash\\python\\lib\\site-packages (from astroid<=2.5,>=2.4.0->pylint) (1.15.0)\n"
     ]
    }
   ],
   "source": [
    "! pip install pylint"
   ]
  },
  {
   "cell_type": "code",
   "execution_count": 14,
   "metadata": {},
   "outputs": [
    {
     "name": "stdout",
     "output_type": "stream",
     "text": [
      "Requirement already satisfied: unittest2 in d:\\aakash\\python\\lib\\site-packages (1.1.0)\n",
      "Requirement already satisfied: argparse in d:\\aakash\\python\\lib\\site-packages (from unittest2) (1.4.0)\n",
      "Requirement already satisfied: six>=1.4 in d:\\aakash\\python\\lib\\site-packages (from unittest2) (1.15.0)\n",
      "Requirement already satisfied: traceback2 in d:\\aakash\\python\\lib\\site-packages (from unittest2) (1.4.0)\n",
      "Requirement already satisfied: linecache2 in d:\\aakash\\python\\lib\\site-packages (from traceback2->unittest2) (1.0.0)\n"
     ]
    }
   ],
   "source": [
    "! pip install unittest2"
   ]
  },
  {
   "cell_type": "code",
   "execution_count": 16,
   "metadata": {},
   "outputs": [
    {
     "name": "stderr",
     "output_type": "stream",
     "text": [
      "ERROR: Could not find a version that satisfies the requirement unittest (from versions: none)\n",
      "ERROR: No matching distribution found for unittest\n"
     ]
    }
   ],
   "source": [
    "! pip install unittest"
   ]
  },
  {
   "cell_type": "code",
   "execution_count": 19,
   "metadata": {},
   "outputs": [],
   "source": [
    "#Write a python Function for finding is a given number prime or not and doUnit Testing on it using PyLint and Unittest Library."
   ]
  },
  {
   "cell_type": "code",
   "execution_count": 21,
   "metadata": {},
   "outputs": [],
   "source": [
    "#PyLint"
   ]
  },
  {
   "cell_type": "code",
   "execution_count": 22,
   "metadata": {},
   "outputs": [
    {
     "name": "stdout",
     "output_type": "stream",
     "text": [
      "Writing check_prime_number.py\n"
     ]
    }
   ],
   "source": [
    "%%writefile check_prime_number.py\n",
    "'''\n",
    "This is a module to check weather the given number is even or odd.''\n",
    "'''\n",
    "def prime(num):\n",
    "    '''\n",
    "    This is the main function which check out the given number is even or odd.\n",
    "    '''\n",
    "    if num > 1:\n",
    "        for i in range(2, num):\n",
    "            if (num % i) == 0:\n",
    "                break\n",
    "            return print(\"It is a Prime Number\")\n",
    "    return print(\"It is not a Prime Number\")\n",
    "n = int(input(\"enter the number :\"))\n",
    "prime(n)"
   ]
  },
  {
   "cell_type": "code",
   "execution_count": 23,
   "metadata": {},
   "outputs": [
    {
     "name": "stdout",
     "output_type": "stream",
     "text": [
      "\n",
      "------------------------------------\n",
      "\n",
      "Your code has been rated at 10.00/10\n",
      "\n",
      "\n",
      "\n"
     ]
    }
   ],
   "source": [
    "! pylint \"check_prime_number.py\""
   ]
  },
  {
   "cell_type": "code",
   "execution_count": 25,
   "metadata": {},
   "outputs": [],
   "source": [
    "#UnitTest"
   ]
  },
  {
   "cell_type": "code",
   "execution_count": 26,
   "metadata": {},
   "outputs": [
    {
     "name": "stdout",
     "output_type": "stream",
     "text": [
      "Writing capitalizeText.py\n"
     ]
    }
   ],
   "source": [
    "%%writefile capitalizeText.py\n",
    "\n",
    "def capText(string_To_Cap):\n",
    "    return string_To_Cap.title()"
   ]
  },
  {
   "cell_type": "code",
   "execution_count": 27,
   "metadata": {},
   "outputs": [
    {
     "name": "stdout",
     "output_type": "stream",
     "text": [
      "Writing test.py\n"
     ]
    }
   ],
   "source": [
    "%%writefile test.py\n",
    "'''\n",
    "this is the test file in which we are going to check out the py file with the help of unittest\n",
    "'''\n",
    "import unittest\n",
    "import capitalizeText\n",
    "\n",
    "class testPrimeNumber(unittest.TestCase):\n",
    "    def testOne(self):\n",
    "        result = capitalizeText.capText(\"anmol noor\")\n",
    "        self.assertEqual(result,\"Anmol Noor\") \n",
    "    def testSecond(self):\n",
    "        result = capitalizeText.capText(\"this is a text string to test the unittest on a file\")\n",
    "        self.assertEqual(result,\"This Is A Text String To Test The Unittest On A File\")\n",
    "        \n",
    "if __name__ == \"__main__\":\n",
    "    unittest.main()"
   ]
  },
  {
   "cell_type": "code",
   "execution_count": 28,
   "metadata": {},
   "outputs": [
    {
     "name": "stderr",
     "output_type": "stream",
     "text": [
      "..\n",
      "----------------------------------------------------------------------\n",
      "Ran 2 tests in 0.000s\n",
      "\n",
      "OK\n"
     ]
    }
   ],
   "source": [
    "! python test.py"
   ]
  },
  {
   "cell_type": "code",
   "execution_count": 30,
   "metadata": {},
   "outputs": [],
   "source": [
    "#Make a small generator program for returning armstrong numbers in between 1-1000 in a generator object"
   ]
  },
  {
   "cell_type": "code",
   "execution_count": 31,
   "metadata": {},
   "outputs": [
    {
     "name": "stdout",
     "output_type": "stream",
     "text": [
      "The Armstrong number is - 1\n",
      "The Armstrong number is - 153\n",
      "The Armstrong number is - 370\n",
      "The Armstrong number is - 371\n",
      "The Armstrong number is - 407\n"
     ]
    }
   ],
   "source": [
    "\n",
    "for num in range(1,1000):\n",
    "  temp=num\n",
    "  sum=0\n",
    "  while temp>0:\n",
    "    digit=temp%10\n",
    "    sum=sum+digit**3\n",
    "    temp=temp//10\n",
    "\n",
    "  if sum==num:\n",
    "    print (\"The Armstrong number is -\",num)"
   ]
  },
  {
   "cell_type": "code",
   "execution_count": null,
   "metadata": {},
   "outputs": [],
   "source": []
  }
 ],
 "metadata": {
  "kernelspec": {
   "display_name": "Python 3",
   "language": "python",
   "name": "python3"
  },
  "language_info": {
   "codemirror_mode": {
    "name": "ipython",
    "version": 3
   },
   "file_extension": ".py",
   "mimetype": "text/x-python",
   "name": "python",
   "nbconvert_exporter": "python",
   "pygments_lexer": "ipython3",
   "version": "3.8.3"
  }
 },
 "nbformat": 4,
 "nbformat_minor": 4
}
